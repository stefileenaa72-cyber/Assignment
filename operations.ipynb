{
 "cells": [
  {
   "cell_type": "code",
   "execution_count": null,
   "id": "f1389473-641e-4990-b4fe-24567755a100",
   "metadata": {},
   "outputs": [],
   "source": [
    "OPERaTION ON LIST"
   ]
  },
  {
   "cell_type": "code",
   "execution_count": null,
   "id": "ae967bc4-b810-411c-8af9-f26cd0cba4c1",
   "metadata": {},
   "outputs": [],
   "source": [
    "create a list"
   ]
  },
  {
   "cell_type": "code",
   "execution_count": 46,
   "id": "fee24b3c-f42a-4504-b004-9359a2f6122d",
   "metadata": {},
   "outputs": [
    {
     "name": "stdout",
     "output_type": "stream",
     "text": [
      "fruit basket: ['apple', 'orange', 'strawberry', 'cherry']\n"
     ]
    }
   ],
   "source": [
    "fruits=['apple','orange','strawberry','cherry']\n",
    "print(\"fruit basket:\",fruits)"
   ]
  },
  {
   "cell_type": "code",
   "execution_count": null,
   "id": "8064a5c2-c2a3-46aa-8a2d-d4a531f011d5",
   "metadata": {},
   "outputs": [],
   "source": [
    "append an element"
   ]
  },
  {
   "cell_type": "code",
   "execution_count": 47,
   "id": "ad826fc6-5222-428a-a808-4e0e166f9855",
   "metadata": {},
   "outputs": [
    {
     "name": "stdout",
     "output_type": "stream",
     "text": [
      "after append: ['apple', 'orange', 'strawberry', 'cherry', 'kivi']\n"
     ]
    }
   ],
   "source": [
    "fruits.append('kivi')\n",
    "print(\"after append:\",fruits)"
   ]
  },
  {
   "cell_type": "code",
   "execution_count": null,
   "id": "ad76df71-cb7d-4984-a85a-4b68d0824aa6",
   "metadata": {},
   "outputs": [],
   "source": [
    "insert an element"
   ]
  },
  {
   "cell_type": "code",
   "execution_count": 48,
   "id": "0a9bbace-035c-43f5-9a71-277f62db4598",
   "metadata": {},
   "outputs": [
    {
     "name": "stdout",
     "output_type": "stream",
     "text": [
      "after insert: ['apple', 'orange', 'strawberry', 'grapes', 'cherry', 'kivi']\n"
     ]
    }
   ],
   "source": [
    "fruits.insert(3,'grapes')\n",
    "print(\"after insert:\",fruits)"
   ]
  },
  {
   "cell_type": "code",
   "execution_count": null,
   "id": "a32e18d2-9fd4-46c1-b05e-7acaad978e5a",
   "metadata": {},
   "outputs": [],
   "source": [
    "remove an element"
   ]
  },
  {
   "cell_type": "code",
   "execution_count": 49,
   "id": "7bcb9f74-8539-473d-9e6f-ca09c12588d4",
   "metadata": {},
   "outputs": [
    {
     "name": "stdout",
     "output_type": "stream",
     "text": [
      "after remove: ['apple', 'strawberry', 'grapes', 'cherry', 'kivi']\n"
     ]
    }
   ],
   "source": [
    "fruits.remove('orange')\n",
    "print(\"after remove:\",fruits)"
   ]
  },
  {
   "cell_type": "code",
   "execution_count": null,
   "id": "ff674ed2-5ca6-432f-965a-7fe64252a295",
   "metadata": {},
   "outputs": [],
   "source": [
    "reverse the list"
   ]
  },
  {
   "cell_type": "code",
   "execution_count": 50,
   "id": "66f52fe3-a449-4894-b882-d62a04d501f2",
   "metadata": {},
   "outputs": [
    {
     "name": "stdout",
     "output_type": "stream",
     "text": [
      "after reverse: ['kivi', 'cherry', 'grapes', 'strawberry', 'apple']\n"
     ]
    }
   ],
   "source": [
    "fruits.reverse()\n",
    "print(\"after reverse:\",fruits)"
   ]
  },
  {
   "cell_type": "code",
   "execution_count": null,
   "id": "ce470cfb-be73-4e67-8e3f-a9fc39f0fb85",
   "metadata": {},
   "outputs": [],
   "source": [
    "OPERATION ON TUPLE"
   ]
  },
  {
   "cell_type": "code",
   "execution_count": null,
   "id": "a84067e5-5cb6-4a8a-b11c-a227a4917b5b",
   "metadata": {},
   "outputs": [],
   "source": [
    "create a tuple"
   ]
  },
  {
   "cell_type": "code",
   "execution_count": 51,
   "id": "9ae91691-d6c1-4ca5-ba8f-728fee6ea5e2",
   "metadata": {},
   "outputs": [
    {
     "name": "stdout",
     "output_type": "stream",
     "text": [
      "my_tuple: (10, 20, 40, 50, 60)\n"
     ]
    }
   ],
   "source": [
    "numbers=(10,20,40,50,60)\n",
    "print(\"my_tuple:\",numbers)"
   ]
  },
  {
   "cell_type": "code",
   "execution_count": null,
   "id": "4526a04c-342d-44dd-98f9-7a9407318ecf",
   "metadata": {},
   "outputs": [],
   "source": [
    "accessing elements"
   ]
  },
  {
   "cell_type": "code",
   "execution_count": 52,
   "id": "7aec6946-4efd-4249-8b88-f80e41019da7",
   "metadata": {},
   "outputs": [
    {
     "name": "stdout",
     "output_type": "stream",
     "text": [
      "50\n"
     ]
    }
   ],
   "source": [
    "print(numbers[3])"
   ]
  },
  {
   "cell_type": "code",
   "execution_count": null,
   "id": "dd20cb17-ca30-4bf8-8b21-06c55ca44b49",
   "metadata": {},
   "outputs": [],
   "source": [
    "concatenation"
   ]
  },
  {
   "cell_type": "code",
   "execution_count": 53,
   "id": "40ec1f8f-2b28-47f6-bf51-f53d19d85a77",
   "metadata": {},
   "outputs": [
    {
     "name": "stdout",
     "output_type": "stream",
     "text": [
      "after concatenation: (10, 20, 40, 50, 60, 70, 80)\n"
     ]
    }
   ],
   "source": [
    "new_tuple=numbers+(70,80)\n",
    "print(\"after concatenation:\",new_tuple)"
   ]
  },
  {
   "cell_type": "code",
   "execution_count": null,
   "id": "0d2cbb48-55a2-4994-b45c-670788671378",
   "metadata": {},
   "outputs": [],
   "source": [
    "repetition"
   ]
  },
  {
   "cell_type": "code",
   "execution_count": 54,
   "id": "c3a0e195-7eb1-45b3-99ba-ac644b400feb",
   "metadata": {},
   "outputs": [
    {
     "name": "stdout",
     "output_type": "stream",
     "text": [
      "(10, 20, 40, 50, 60, 10, 20, 40, 50, 60)\n"
     ]
    }
   ],
   "source": [
    "print(numbers*2)"
   ]
  },
  {
   "cell_type": "code",
   "execution_count": null,
   "id": "b313b74a-6c35-402a-96b1-d12e87194e6f",
   "metadata": {},
   "outputs": [],
   "source": [
    "slicing"
   ]
  },
  {
   "cell_type": "code",
   "execution_count": 55,
   "id": "7e5ce573-81ae-417e-8f74-e3a0bb93afc6",
   "metadata": {},
   "outputs": [
    {
     "name": "stdout",
     "output_type": "stream",
     "text": [
      "(20, 40)\n"
     ]
    }
   ],
   "source": [
    "print(numbers[1:3])"
   ]
  },
  {
   "cell_type": "code",
   "execution_count": null,
   "id": "600fc8cf-4f94-48c4-ad39-9a6776fcb56d",
   "metadata": {},
   "outputs": [],
   "source": [
    "OPERATIONS ON SET"
   ]
  },
  {
   "cell_type": "code",
   "execution_count": null,
   "id": "2964bdfc-35e8-45e0-a9ce-5ba002974dbf",
   "metadata": {},
   "outputs": [],
   "source": [
    "create a set "
   ]
  },
  {
   "cell_type": "code",
   "execution_count": 56,
   "id": "35b65def-fbb8-4ec7-a676-f739e9aec2ce",
   "metadata": {},
   "outputs": [
    {
     "name": "stdout",
     "output_type": "stream",
     "text": [
      "{1, 2, 3, 4}\n",
      "{3, 4, 5, 6}\n"
     ]
    }
   ],
   "source": [
    "a={1,2,3,4}\n",
    "b={3,4,5,6}\n",
    "print(a)\n",
    "print(b)"
   ]
  },
  {
   "cell_type": "code",
   "execution_count": null,
   "id": "70cc0048-311a-45ee-8781-7c38062729db",
   "metadata": {},
   "outputs": [],
   "source": [
    "adding elements"
   ]
  },
  {
   "cell_type": "code",
   "execution_count": 57,
   "id": "28c80c7d-12e5-4113-9447-9b66c1ab3ed3",
   "metadata": {},
   "outputs": [
    {
     "name": "stdout",
     "output_type": "stream",
     "text": [
      "after add: {1, 2, 3, 4, 7}\n",
      "after add: {3, 4, 5, 6, 9}\n"
     ]
    }
   ],
   "source": [
    "a.add(7)\n",
    "b.add(9)\n",
    "print(\"after add:\",a)\n",
    "print(\"after add:\",b)"
   ]
  },
  {
   "cell_type": "code",
   "execution_count": null,
   "id": "a0190cdf-9826-4d68-99c7-e62ff1904acb",
   "metadata": {},
   "outputs": [],
   "source": [
    "removing elements"
   ]
  },
  {
   "cell_type": "code",
   "execution_count": 58,
   "id": "7a1a6e8e-5a0a-46d5-ad36-5b6d848fd365",
   "metadata": {},
   "outputs": [
    {
     "name": "stdout",
     "output_type": "stream",
     "text": [
      "after remove: {1, 3, 4, 7}\n",
      "after remove: {3, 5, 6, 9}\n"
     ]
    }
   ],
   "source": [
    "a.remove(2)\n",
    "b.remove(4)\n",
    "print(\"after remove:\",a)\n",
    "print(\"after remove:\",b)"
   ]
  },
  {
   "cell_type": "code",
   "execution_count": null,
   "id": "414a2676-81a8-4aec-810b-05a917b0ba10",
   "metadata": {},
   "outputs": [],
   "source": [
    "SET OPERATIONS(union)"
   ]
  },
  {
   "cell_type": "code",
   "execution_count": 59,
   "id": "9d326696-87a1-4b7c-96ed-5d7f168b119f",
   "metadata": {},
   "outputs": [
    {
     "name": "stdout",
     "output_type": "stream",
     "text": [
      "{1, 3, 4, 5, 6, 7, 9}\n"
     ]
    }
   ],
   "source": [
    "print(a.union(b))"
   ]
  },
  {
   "cell_type": "code",
   "execution_count": null,
   "id": "b96098f4-be33-4d68-851e-0fc052545287",
   "metadata": {},
   "outputs": [],
   "source": [
    "intersection"
   ]
  },
  {
   "cell_type": "code",
   "execution_count": 60,
   "id": "1d042170-9818-45b1-99f7-13b8a183a8a0",
   "metadata": {},
   "outputs": [
    {
     "name": "stdout",
     "output_type": "stream",
     "text": [
      "{3}\n"
     ]
    }
   ],
   "source": [
    "print(a.intersection(b))"
   ]
  },
  {
   "cell_type": "code",
   "execution_count": null,
   "id": "7347f718-c018-4d63-a57a-bbad5b810db7",
   "metadata": {},
   "outputs": [],
   "source": [
    "difference"
   ]
  },
  {
   "cell_type": "code",
   "execution_count": 61,
   "id": "17d857f1-b957-4f44-95cd-56e6ac39dc41",
   "metadata": {},
   "outputs": [
    {
     "name": "stdout",
     "output_type": "stream",
     "text": [
      "{1, 4, 7}\n"
     ]
    }
   ],
   "source": [
    "print(a.difference(b))"
   ]
  },
  {
   "cell_type": "code",
   "execution_count": null,
   "id": "d3453d69-934e-4356-8e25-d91c3f0e77b4",
   "metadata": {},
   "outputs": [],
   "source": [
    "OPERATION ON DICTIONARY"
   ]
  },
  {
   "cell_type": "code",
   "execution_count": null,
   "id": "856fa07c-8c84-43c1-a870-0cf83c16ff1e",
   "metadata": {},
   "outputs": [],
   "source": [
    "Create a dictionary"
   ]
  },
  {
   "cell_type": "code",
   "execution_count": 96,
   "id": "47eb7960-1f60-420a-b3fe-9997c6ebe386",
   "metadata": {},
   "outputs": [
    {
     "name": "stdout",
     "output_type": "stream",
     "text": [
      "{'name': 'allan', 'age': 20, 'course': 'aviation'}\n"
     ]
    }
   ],
   "source": [
    "student={\"name\":\"allan\",\"age\":20,\"course\":\"aviation\"}\n",
    "print(student)"
   ]
  },
  {
   "cell_type": "code",
   "execution_count": null,
   "id": "5dbe5574-22e2-4c74-b23d-e4ab72a85f83",
   "metadata": {},
   "outputs": [],
   "source": [
    "accessing elements"
   ]
  },
  {
   "cell_type": "code",
   "execution_count": 64,
   "id": "f0710240-1975-477d-a166-ff3e346799c6",
   "metadata": {},
   "outputs": [
    {
     "name": "stdout",
     "output_type": "stream",
     "text": [
      "allan\n",
      "20\n"
     ]
    }
   ],
   "source": [
    "print(student[\"name\"])\n",
    "print(student.get(\"age\"))"
   ]
  },
  {
   "cell_type": "code",
   "execution_count": null,
   "id": "2ad3e276-0963-400c-8f77-2bb4b8ad75bc",
   "metadata": {},
   "outputs": [],
   "source": [
    "adding elements/update a value"
   ]
  },
  {
   "cell_type": "code",
   "execution_count": 71,
   "id": "476d0ecc-b6fe-4842-abc2-897007f68f78",
   "metadata": {},
   "outputs": [
    {
     "name": "stdout",
     "output_type": "stream",
     "text": [
      "after adding: {'name': 'allan', 'age': 21, 'course': 'aviation', 'grade': 'A'}\n"
     ]
    }
   ],
   "source": [
    "student[\"grade\"]=\"A\"\n",
    "student[\"age\"]=21\n",
    "print(\"after adding:\",student)"
   ]
  },
  {
   "cell_type": "code",
   "execution_count": null,
   "id": "76374096-33f0-4f90-95d4-300b0cbbce35",
   "metadata": {},
   "outputs": [],
   "source": [
    "get all keys"
   ]
  },
  {
   "cell_type": "code",
   "execution_count": 102,
   "id": "cfa12929-e70d-4fb7-8f25-ec85bbde963f",
   "metadata": {},
   "outputs": [
    {
     "name": "stdout",
     "output_type": "stream",
     "text": [
      "all keys: <built-in method keys of dict object at 0x72c26ff1d000>\n"
     ]
    }
   ],
   "source": [
    "print (\"all keys:\",student.keys)"
   ]
  },
  {
   "cell_type": "code",
   "execution_count": null,
   "id": "b24aca6b-cf05-4099-a6fe-6a1e81fa129a",
   "metadata": {},
   "outputs": [],
   "source": []
  }
 ],
 "metadata": {
  "kernelspec": {
   "display_name": "anaconda-2024.02-py310",
   "language": "python",
   "name": "conda-env-anaconda-2024.02-py310-py"
  },
  "language_info": {
   "codemirror_mode": {
    "name": "ipython",
    "version": 3
   },
   "file_extension": ".py",
   "mimetype": "text/x-python",
   "name": "python",
   "nbconvert_exporter": "python",
   "pygments_lexer": "ipython3",
   "version": "3.10.14"
  }
 },
 "nbformat": 4,
 "nbformat_minor": 5
}
